{
 "cells": [
  {
   "attachments": {},
   "cell_type": "markdown",
   "metadata": {},
   "source": [
    "### Demo script: fits CTDS to multi-region simulated data\n",
    "\n",
    "This script creates a cell type dynamical system (CTDS) and simulated data from it, assuming two regions where both regions obey Dale's law, and the cross-region connections between these regions are excitatory only. We then fit a new CTDS model to data generated from this model. We also show how to add custom constraints on the dynamics matrix. (By default, CTDS assumes Dale's law within region, and FOF-ADS cross region connections akin to the paper so that region 1 has only excitatory connections to region 2 but there are no constraints on communication in the other direction.) \n",
    "\n",
    "We have defined a new emission class and a new observations class within SSM for the CTDS model. They can be accessed by setting emissions and dynamics to \"gaussian_ctds\" when creating a CTDS object, as we show below. "
   ]
  },
  {
   "cell_type": "code",
   "execution_count": 11,
   "metadata": {},
   "outputs": [],
   "source": [
    "import jax.numpy as jnp\n",
    "import numpy as np\n",
    "import matplotlib.pyplot as plt\n",
    "import jax.random as jr\n",
    "\n",
    "from models.ctds_model import CTDSModel\n",
    "from models.components.ctds_dynamics import CTDSDynamics\n",
    "from models.components.ctds_emissions import CTDSEmissions\n",
    "\n",
    "#from utils.initialization import load_config\n",
    "#from models.utils.simulator import simulate_ctds_data\n",
    "#from utils.visualization import plot_latents_by_region\n",
    "#random seed for reproducibility\n",
    "key = jr.PRNGKey(10)"
   ]
  },
  {
   "attachments": {},
   "cell_type": "markdown",
   "metadata": {},
   "source": [
    "#### Simulate data from a CTDS \n",
    "\n",
    "In this section, we generate data from a CTDS model. We will show how to create the model, and visualize example parameters of the model."
   ]
  },
  {
   "cell_type": "code",
   "execution_count": 12,
   "metadata": {},
   "outputs": [
    {
     "name": "stdout",
     "output_type": "stream",
     "text": [
      "[[2 2]\n",
      " [2 2]]\n"
     ]
    }
   ],
   "source": [
    "\"\"\"\n",
    "import yaml\n",
    "\n",
    "with open(\"../config/ctds_config.yaml\", \"r\") as f:\n",
    "    config = yaml.safe_load(f)\n",
    "\n",
    "\"\"\"\n",
    "\n",
    "num_regions = 2 # number of regions in the network\n",
    "num_neurons_per_region = 20 \n",
    "num_neurons_per_region_per_cell_type = num_neurons_per_region // 2 # number of neurons per cell type in each region\n",
    "\n",
    "num_latent_per_cell_type = 2 # assuming same number of latents per cell type\n",
    "cell_identity=jnp.array([0,1,2])  #unknown, excite, inhib\n",
    "list_of_dimensions = jnp.ones((num_regions, 2), dtype=int) * num_latent_per_cell_type #creates a JAX array of shape (num_regions, 2) filled with 1s.\n",
    "print(list_of_dimensions)\n"
   ]
  },
  {
   "attachments": {},
   "cell_type": "markdown",
   "metadata": {},
   "source": [
    "##### Set the model parameters\n",
    "\n",
    "We set the model parameters to obey biological constraints. The dynamics $A$ obeys Dale's law within-region and has only excitatory connections between regions. The emission $C$ is block-diagonal and positive with each block corresponding to one cell-type within a region."
   ]
  },
  {
   "cell_type": "code",
   "execution_count": 14,
   "metadata": {},
   "outputs": [
    {
     "ename": "TypeError",
     "evalue": "CTDSEmissions.initialize() missing 1 required positional argument: 'Y'",
     "output_type": "error",
     "traceback": [
      "\u001b[0;31m---------------------------------------------------------------------------\u001b[0m",
      "\u001b[0;31mTypeError\u001b[0m                                 Traceback (most recent call last)",
      "Cell \u001b[0;32mIn[14], line 12\u001b[0m\n\u001b[1;32m      8\u001b[0m A\u001b[38;5;241m=\u001b[39m CTDSDynamics(list_of_dimensions, within_region\u001b[38;5;241m=\u001b[39m\u001b[38;5;28;01mTrue\u001b[39;00m)\n\u001b[1;32m      9\u001b[0m A\u001b[38;5;241m.\u001b[39mbuild()\n\u001b[0;32m---> 12\u001b[0m C\u001b[38;5;241m=\u001b[39m\u001b[43mCTDSEmissions\u001b[49m\u001b[43m(\u001b[49m\u001b[38;5;241;43m40\u001b[39;49m\u001b[43m,\u001b[49m\u001b[38;5;28;43mlen\u001b[39;49m\u001b[43m(\u001b[49m\u001b[43mlist_of_dimensions\u001b[49m\u001b[43m)\u001b[49m\u001b[43m,\u001b[49m\u001b[43mcell_identity\u001b[49m\u001b[43m,\u001b[49m\u001b[43m \u001b[49m\u001b[43mregion_identity\u001b[49m\u001b[43m,\u001b[49m\u001b[43mlist_of_dimensions\u001b[49m\u001b[43m,\u001b[49m\u001b[43m \u001b[49m\u001b[43mkey\u001b[49m\u001b[43m)\u001b[49m\n\u001b[1;32m     13\u001b[0m \u001b[38;5;28mprint\u001b[39m(list_of_dimensions)\n\u001b[1;32m     14\u001b[0m \u001b[38;5;28mprint\u001b[39m(C\u001b[38;5;241m.\u001b[39m\u001b[38;5;18m__dict__\u001b[39m)\n",
      "File \u001b[0;32m~/Documents/PNI/CTDS/models/components/ctds_emissions.py:45\u001b[0m, in \u001b[0;36mCTDSEmissions.__init__\u001b[0;34m(self, N, D, cell_identity, region_identity, list_of_dimensions, key)\u001b[0m\n\u001b[1;32m     43\u001b[0m \u001b[38;5;66;03m# Initialize parameters\u001b[39;00m\n\u001b[1;32m     44\u001b[0m \u001b[38;5;28mself\u001b[39m\u001b[38;5;241m.\u001b[39mkey \u001b[38;5;241m=\u001b[39m key\n\u001b[0;32m---> 45\u001b[0m \u001b[38;5;28mself\u001b[39m\u001b[38;5;241m.\u001b[39mparams \u001b[38;5;241m=\u001b[39m \u001b[38;5;28;43mself\u001b[39;49m\u001b[38;5;241;43m.\u001b[39;49m\u001b[43minitialize\u001b[49m\u001b[43m(\u001b[49m\u001b[43m)\u001b[49m\n",
      "\u001b[0;31mTypeError\u001b[0m: CTDSEmissions.initialize() missing 1 required positional argument: 'Y'"
     ]
    }
   ],
   "source": [
    "# create an array with identities of each region as integers starting from 0\n",
    "region_identity = jnp.zeros(num_neurons_per_region*num_regions, dtype=int)\n",
    "for i in range(num_regions):\n",
    "    region_identity = region_identity.at[ i * num_neurons_per_region : (i + 1) * num_neurons_per_region].set(i)\n",
    "\n",
    "\n",
    "\n",
    "A= CTDSDynamics(list_of_dimensions, within_region=True)\n",
    "A.build()\n",
    "\n",
    "\n",
    "C=CTDSEmissions(40,len(list_of_dimensions),cell_identity, region_identity,list_of_dimensions, key)\n",
    "print(list_of_dimensions)\n",
    "print(C.__dict__)\n",
    "C.build()\n",
    "\n",
    "model=CTDSModel(10,3,100,cell_identity, list_of_dimensions, region_identity)\n",
    "#model.initialize_params()\n",
    "\n",
    "\"\"\"\n",
    "A = create_dynamics_matrix(list_of_dimensions)\n",
    "\n",
    "# create the emission matrix\n",
    "C = np.zeros((num_regions*num_neurons_per_region, np.sum(list_of_dimensions)))\n",
    "num_neurons_per_region_per_type = num_neurons_per_region//2\n",
    "for i in range(num_regions):\n",
    "    excitatory_latents, inhibitory_latents = list_of_dimensions[i]\n",
    "    # put this into a block-diagonal matrix\n",
    "    region_C = np.zeros((num_neurons_per_region, excitatory_latents + inhibitory_latents))\n",
    "    # set the excitatory block\n",
    "    if excitatory_latents > 0:\n",
    "        region_C[:num_neurons_per_region_per_type,:excitatory_latents] = np.random.rand(num_neurons_per_region_per_type, excitatory_latents)\n",
    "    if inhibitory_latents > 0:\n",
    "        region_C[num_neurons_per_region_per_type:num_neurons_per_region,excitatory_latents:excitatory_latents+inhibitory_latents] = np.random.rand(num_neurons_per_region_per_type, inhibitory_latents)\n",
    "\n",
    "    total_latent_previous_regions = np.sum(list_of_dimensions[:i])\n",
    "    C[i*num_neurons_per_region:(i+1)*num_neurons_per_region, total_latent_previous_regions:total_latent_previous_regions+excitatory_latents+inhibitory_latents] = region_C # this matrix should be block-diagonal and non-negative\n",
    "    \n",
    "\n",
    "Q = np.random.randn(np.sum(list_of_dimensions), np.sum(list_of_dimensions))\n",
    "Q = Q.T@Q + np.identity(np.sum(list_of_dimensions))\n",
    "Q = Q/(np.max(Q)*1000)\n",
    "\n",
    "# R should be num_neurons x num_neurons, diagonal with positive entries\n",
    "R = np.diag(np.random.rand(num_regions*num_neurons_per_region) + 0.1)/1000\n",
    "\n",
    "# check that Q and R are PD\n",
    "assert np.all(np.linalg.eigvals(Q) > 0), \"Q is not PD\"\n",
    "assert np.all(np.linalg.eigvals(R) > 0), \"R is not PD\"\n",
    "\"\"\""
   ]
  },
  {
   "cell_type": "code",
   "execution_count": 12,
   "metadata": {},
   "outputs": [
    {
     "data": {
      "image/png": "[encoded data removed]",
      "text/plain": [
       "<Figure size 1200x600 with 8 Axes>"
      ]
     },
     "metadata": {},
     "output_type": "display_data"
    }
   ],
   "source": [
    "#plot_and_save_parameters(A, C, Q, R, None)\n"
   ]
  },
  {
   "attachments": {},
   "cell_type": "markdown",
   "metadata": {},
   "source": [
    "##### Create a CTDS model\n",
    "\n",
    "A CTDS model can be created using \"gaussian_ctds\" emissions (constrains emissions to be block-diag and positive), and the \"gaussian_ctds\" dynamics class (puts Dale's law + excitatory cross-region constraints by default, although they can be custom as shown later). \n",
    "1. Defining a CTDS model requires cell-identities in the form of an integer numpy array of size (number of neurons,) where 0 is used for unknown cell-classes and will be inferred by the model, the known cell classes are labeled as integers >=1. \n",
    "2. CTDS also needs an integer np array called list_of_dimensions of shape (number of regions) x (number of cell types), that contains latent dimensions for each cell type in a region. \n",
    "3. Finally, when modeling data from multiple regions, we optionally provide region identity to the model which is also a numpy integer array of size number of neurons, containing the region identity of each neuron, labeled >=0."
   ]
  },
  {
   "cell_type": "code",
   "execution_count": 13,
   "metadata": {},
   "outputs": [],
   "source": [
    "# create an array with identities of each region as integers starting from 0\n",
    "region_identity = np.zeros(num_neurons_per_region*num_regions, dtype=int)\n",
    "for i in range(num_regions):\n",
    "    region_identity[i*num_neurons_per_region:(i+1)*num_neurons_per_region] = i\n",
    "\n",
    "# create an array with identities of each cell type as integers starting from 1, important to note we use 0 for unknown cell-types\n",
    "cell_type_identity = np.zeros(num_neurons_per_region*num_regions, dtype=int)\n",
    "for i in range(num_regions):\n",
    "    cell_type_this_region = np.ones(num_neurons_per_region, dtype=int)\n",
    "    cell_type_this_region[num_neurons_per_region_per_type:] = 2\n",
    "    cell_type_identity[i*num_neurons_per_region:(i+1)*num_neurons_per_region] = cell_type_this_region\n",
    "\n",
    "num_total_latents = int(np.sum(list_of_dimensions))\n",
    "#print(cell_type_identity)\n",
    "#print(region_identity)"
   ]
  },
  {
   "cell_type": "code",
   "execution_count": 14,
   "metadata": {},
   "outputs": [
    {
     "ename": "AttributeError",
     "evalue": "module 'ssm' has no attribute 'LDS'",
     "output_type": "error",
     "traceback": [
      "\u001b[0;31m---------------------------------------------------------------------------\u001b[0m",
      "\u001b[0;31mAttributeError\u001b[0m                            Traceback (most recent call last)",
      "Cell \u001b[0;32mIn[14], line 2\u001b[0m\n\u001b[1;32m      1\u001b[0m \u001b[39m# Creating CTDS requires providing cell_identity, and list_of_dimensions. cell_identity should be 0 for unknown cell-types, and labeled>0 for known cell-types. region_identity is optional otherwise model assumes all neurons are from the same region. \"gaussian_ctds\" is the new class we defined independently for dynamics and observations to handle cell-type specific dynamics and observations.\u001b[39;00m\n\u001b[0;32m----> 2\u001b[0m ctds \u001b[39m=\u001b[39m ssm\u001b[39m.\u001b[39;49mLDS(N\u001b[39m=\u001b[39mnum_regions\u001b[39m*\u001b[39mnum_neurons_per_region, D\u001b[39m=\u001b[39mnum_total_latents, M\u001b[39m=\u001b[39m\u001b[39m0\u001b[39m, dynamics\u001b[39m=\u001b[39m\u001b[39m\"\u001b[39m\u001b[39mgaussian_ctds\u001b[39m\u001b[39m\"\u001b[39m, emissions\u001b[39m=\u001b[39m\u001b[39m\"\u001b[39m\u001b[39mgaussian_ctds\u001b[39m\u001b[39m\"\u001b[39m, emission_kwargs\u001b[39m=\u001b[39m\u001b[39mdict\u001b[39m(cell_identity\u001b[39m=\u001b[39mcell_type_identity, region_identity\u001b[39m=\u001b[39mregion_identity, list_of_dimensions\u001b[39m=\u001b[39mlist_of_dimensions), dynamics_kwargs\u001b[39m=\u001b[39m\u001b[39mdict\u001b[39m(list_of_dimensions\u001b[39m=\u001b[39mlist_of_dimensions)) \n\u001b[1;32m      3\u001b[0m \u001b[39m# set the dynamics matrix\u001b[39;00m\n\u001b[1;32m      4\u001b[0m ctds\u001b[39m.\u001b[39mdynamics\u001b[39m.\u001b[39mAs[\u001b[39m0\u001b[39m] \u001b[39m=\u001b[39m A\n",
      "\u001b[0;31mAttributeError\u001b[0m: module 'ssm' has no attribute 'LDS'"
     ]
    }
   ],
   "source": [
    "# Creating CTDS requires providing cell_identity, and list_of_dimensions. cell_identity should be 0 for unknown cell-types, and labeled>0 for known cell-types. region_identity is optional otherwise model assumes all neurons are from the same region. \"gaussian_ctds\" is the new class we defined independently for dynamics and observations to handle cell-type specific dynamics and observations.\n",
    "ctds = ssm.LDS(N=num_regions*num_neurons_per_region, D=num_total_latents, M=0, dynamics=\"gaussian_ctds\", emissions=\"gaussian_ctds\", emission_kwargs=dict(cell_identity=cell_type_identity, region_identity=region_identity, list_of_dimensions=list_of_dimensions), dynamics_kwargs=dict(list_of_dimensions=list_of_dimensions)) \n",
    "# set the dynamics matrix\n",
    "ctds.dynamics.As[0] = A\n",
    "# set the emission matrix\n",
    "ctds.emissions.Cs[0] = C\n",
    "# set the noise covariance\n",
    "ctds.dynamics._sqrt_Sigmas[0] = np.linalg.cholesky(Q)\n",
    "ctds.emissions.inv_etas[0] = R\n",
    "ctds.emissions.ds[0] = 0\n",
    "ctds.dynamics.bs[0] = 0\n",
    "assert np.allclose(ctds.dynamics.Sigmas[0], Q), \"Q is not set correctly\""
   ]
  },
  {
   "cell_type": "code",
   "execution_count": null,
   "metadata": {},
   "outputs": [],
   "source": [
    "# generate data from model\n",
    "# now let's simulate data from this model\n",
    "T = 100\n",
    "num_trials = 50\n",
    "datas = []\n",
    "for i in range(num_trials):\n",
    "    true_states, data = ctds.sample(T, prefix=None)\n",
    "    datas.append(data)\n",
    "\n",
    "# plot and save the true states for region 1 and region 2 separately\n",
    "plt.figure(figsize=(8, 3))\n",
    "plt.subplot(121)\n",
    "for i in range(np.sum(list_of_dimensions[0])):\n",
    "    plt.plot(true_states[:, i], color = 'k', alpha = 0.5)\n",
    "plt.title('true states region 1')\n",
    "plt.xlabel('time')\n",
    "plt.yticks([0], '0')\n",
    "plt.gca().spines['right'].set_visible(False)\n",
    "plt.gca().spines['top'].set_visible(False)\n",
    "plt.subplot(122)\n",
    "for i in range(np.sum(list_of_dimensions[1])):\n",
    "    plt.plot(true_states[:, i+np.sum(list_of_dimensions[0])], color = 'k', alpha = 0.5)\n",
    "plt.title('true states region 2')\n",
    "plt.gca().spines['right'].set_visible(False)\n",
    "plt.gca().spines['top'].set_visible(False)\n",
    "plt.xlabel('time')\n",
    "plt.yticks([0], '0')"
   ]
  },
  {
   "cell_type": "code",
   "execution_count": null,
   "metadata": {},
   "outputs": [],
   "source": [
    "# divide into train and test datasets\n",
    "num_train_trials = int(0.8*num_trials)\n",
    "train_datas = datas[:num_train_trials]\n",
    "test_datas = datas[num_train_trials:]\n",
    "\n",
    "# compute LLs for the test and train datasets\n",
    "true_model_ll = ctds.log_likelihood(test_datas)\n",
    "true_model_train_ll = ctds.log_likelihood(train_datas)"
   ]
  },
  {
   "attachments": {},
   "cell_type": "markdown",
   "metadata": {},
   "source": [
    "#### Fit a new CTDS to this generated dataset"
   ]
  },
  {
   "cell_type": "code",
   "execution_count": null,
   "metadata": {},
   "outputs": [],
   "source": [
    "new_ctds = ssm.LDS(N=num_regions*num_neurons_per_region, D=num_total_latents, M=0, dynamics=\"gaussian_ctds\", emissions=\"gaussian_ctds\", emission_kwargs=dict(cell_identity=cell_type_identity, region_identity=region_identity, list_of_dimensions=list_of_dimensions), dynamics_kwargs=dict(list_of_dimensions=list_of_dimensions)) "
   ]
  },
  {
   "attachments": {},
   "cell_type": "markdown",
   "metadata": {},
   "source": [
    "##### Custom constraints on dynamics\n",
    "\n",
    "Here we show how to set custom constraints on teh dynamics matrix $A$ if we want to deviate from the default constraints (which are set per FOF-ADS communication, as described in the paper.)"
   ]
  },
  {
   "cell_type": "code",
   "execution_count": null,
   "metadata": {},
   "outputs": [],
   "source": [
    "# By default the model assumes Dale's law for within-region dynamics and FOF-ADS style cross-region dynamics (with only E projections from FOF to ADS, and no constraints on projections from ADS to FOF), however these can be changed using custom functions. For example, here we want both cross-region connections to be excitatory only and set the inhibitory latents to zero, let's set that.\n",
    "\n",
    "def custom_across_region_constraints(W):\n",
    "        \"\"\" Setup Dale's constraints for the weights W assuming E and I cell classes, and cross-region constraints \"\"\"\n",
    "        total_latents = np.sum(list_of_dimensions)\n",
    "        across_region_constraints = []\n",
    "        latents_region_1 = np.sum(list_of_dimensions[0])\n",
    "        d_e_region_1, _ = list_of_dimensions[0]\n",
    "        d_e_region_2, _ = list_of_dimensions[1]\n",
    "        across_region_constraints = [W[latents_region_1:total_latents, 0:d_e_region_1]>=0, W[latents_region_1:total_latents, d_e_region_1:latents_region_1]==0, W[0:latents_region_1, latents_region_1:latents_region_1+d_e_region_2]>=0, W[0:latents_region_1, latents_region_1+d_e_region_2:total_latents]==0]\n",
    "        return across_region_constraints   \n",
    "\n",
    "new_ctds.dynamics.across_region_constraints = custom_across_region_constraints"
   ]
  },
  {
   "cell_type": "code",
   "execution_count": null,
   "metadata": {},
   "outputs": [],
   "source": [
    "# fit this model to generated data\n",
    "lls,_ = new_ctds.fit(train_datas, method=\"laplace_em\", \n",
    "                                     num_iters = 100, initialize=True) # this uses the SSM initialization scheme and fits for 100 iterations"
   ]
  },
  {
   "cell_type": "code",
   "execution_count": null,
   "metadata": {},
   "outputs": [],
   "source": [
    "# compute the log likelihood of the test data\n",
    "test_log_likelihood = new_ctds.log_likelihood(test_datas)\n",
    "# plot lls \n",
    "plt.figure(figsize=(5, 4))\n",
    "plt.plot(lls, color = 'k')\n",
    "plt.gca().spines['right'].set_visible(False)\n",
    "plt.gca().spines['top'].set_visible(False)\n",
    "plt.ylabel('LL', fontsize=15)\n",
    "plt.xlabel('iteration', fontsize=15)\n",
    "\n",
    "print(f\"True model test LL: {true_model_ll}\")\n",
    "print(f\"New model test LL: {test_log_likelihood}\")"
   ]
  },
  {
   "cell_type": "code",
   "execution_count": null,
   "metadata": {},
   "outputs": [],
   "source": [
    "# plot learned parameters\n",
    "A_rec = new_ctds.dynamics.As[0]\n",
    "C_rec = new_ctds.emissions.Cs[0]\n",
    "Q_rec = new_ctds.dynamics.Sigmas[0]\n",
    "R_rec = new_ctds.emissions.inv_etas[0]\n",
    "\n",
    "# there are non-identifiabilities in the model in terms of latents permuting and scaling of latent / emission spaces, so we need to deal with these\n",
    "C_rec, A_rec, Q_rec = transform_true_rec(C, C_rec, A_rec, Q_rec, list_of_dimensions, region_identity=region_identity)\n",
    "\n",
    "\n",
    "plot_and_save_parameters(A_rec, C_rec, Q_rec, R_rec, None)"
   ]
  },
  {
   "attachments": {},
   "cell_type": "markdown",
   "metadata": {},
   "source": [
    "#### Fitting CTDS with default constraints\n",
    "Here we demonstrate fitting CTDS with default constraints. The main difference from the previous results will be that the top-right cross-region dynamics (from region 2 to region 1) will no more be constrained to be excitatory only (as is the case with ADS->FOF dynamics). We can see this in the fitted $A$ matrix visualized below."
   ]
  },
  {
   "cell_type": "code",
   "execution_count": null,
   "metadata": {},
   "outputs": [],
   "source": [
    "# we could also fit a model with default constraints from the paper, that assumes excitatory connections only from FOF to ADS and no constraints on projections from ADS to FOF\n",
    "\n",
    "new_ctds = ssm.LDS(N=num_regions*num_neurons_per_region, D=num_total_latents, M=0, dynamics=\"gaussian_ctds\", emissions=\"gaussian_ctds\", emission_kwargs=dict(cell_identity=cell_type_identity, region_identity=region_identity, list_of_dimensions=list_of_dimensions), dynamics_kwargs=dict(list_of_dimensions=list_of_dimensions))\n",
    "\n",
    "# fit this model to generated data\n",
    "lls,_ = new_ctds.fit(train_datas, method=\"laplace_em\", \n",
    "                                     num_iters = 100, initialize=True) # this uses the SSM initialization scheme and fits for 100 iterations \n",
    "\n",
    "# compute the log likelihood of the test data\n",
    "test_log_likelihood = new_ctds.log_likelihood(test_datas)\n",
    "\n",
    "print(f\"True model test LL: {true_model_ll}\")\n",
    "print(f\"New model test LL: {test_log_likelihood}\")\n",
    "\n",
    "# plot learned parameters\n",
    "A_rec = new_ctds.dynamics.As[0]\n",
    "C_rec = new_ctds.emissions.Cs[0]\n",
    "Q_rec = new_ctds.dynamics.Sigmas[0]\n",
    "R_rec = new_ctds.emissions.inv_etas[0]\n",
    "\n",
    "# there are non-identifiabilities in the model in terms of latents permuting and scaling of latent / emission spaces, so we need to deal with these\n",
    "C_rec, A_rec, Q_rec = transform_true_rec(C, C_rec, A_rec, Q_rec, list_of_dimensions, region_identity=region_identity)\n",
    "\n",
    "\n",
    "plot_and_save_parameters(A_rec, C_rec, Q_rec, R_rec, None)"
   ]
  }
 ],
 "metadata": {
  "kernelspec": {
   "display_name": "Python 3",
   "language": "python",
   "name": "python3"
  },
  "language_info": {
   "codemirror_mode": {
    "name": "ipython",
    "version": 3
   },
   "file_extension": ".py",
   "mimetype": "text/x-python",
   "name": "python",
   "nbconvert_exporter": "python",
   "pygments_lexer": "ipython3",
   "version": "3.11.1"
  }
 },
 "nbformat": 4,
 "nbformat_minor": 2
}
